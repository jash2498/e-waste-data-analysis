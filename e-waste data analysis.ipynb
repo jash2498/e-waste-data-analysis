{
 "cells": [
  {
   "cell_type": "code",
   "execution_count": 107,
   "id": "2f427e5d",
   "metadata": {},
   "outputs": [],
   "source": [
    "import numpy as np\n",
    "import pandas as pd\n",
    "import matplotlib.pyplot as plt\n"
   ]
  },
  {
   "cell_type": "code",
   "execution_count": 108,
   "id": "218f3c8c",
   "metadata": {},
   "outputs": [],
   "source": [
    "df=pd.read_csv('ewaste1.csv')"
   ]
  },
  {
   "cell_type": "code",
   "execution_count": 109,
   "id": "834894e4",
   "metadata": {},
   "outputs": [
    {
     "data": {
      "text/html": [
       "<div>\n",
       "<style scoped>\n",
       "    .dataframe tbody tr th:only-of-type {\n",
       "        vertical-align: middle;\n",
       "    }\n",
       "\n",
       "    .dataframe tbody tr th {\n",
       "        vertical-align: top;\n",
       "    }\n",
       "\n",
       "    .dataframe thead th {\n",
       "        text-align: right;\n",
       "    }\n",
       "</style>\n",
       "<table border=\"1\" class=\"dataframe\">\n",
       "  <thead>\n",
       "    <tr style=\"text-align: right;\">\n",
       "      <th></th>\n",
       "      <th>COU</th>\n",
       "      <th>Country</th>\n",
       "      <th>WASTE</th>\n",
       "      <th>Waste category</th>\n",
       "      <th>WST_OPER</th>\n",
       "      <th>Waste management operations</th>\n",
       "      <th>UNIT</th>\n",
       "      <th>Unit of measure</th>\n",
       "      <th>YEA</th>\n",
       "      <th>Year</th>\n",
       "      <th>Value</th>\n",
       "      <th>Flag Codes</th>\n",
       "      <th>Flags</th>\n",
       "    </tr>\n",
       "  </thead>\n",
       "  <tbody>\n",
       "    <tr>\n",
       "      <th>0</th>\n",
       "      <td>AUS</td>\n",
       "      <td>Australia</td>\n",
       "      <td>EE6</td>\n",
       "      <td>Total waste</td>\n",
       "      <td>GEN</td>\n",
       "      <td>Waste generated</td>\n",
       "      <td>KG_HAB</td>\n",
       "      <td>Kilograms per capita</td>\n",
       "      <td>2000</td>\n",
       "      <td>2000</td>\n",
       "      <td>4.517</td>\n",
       "      <td>NaN</td>\n",
       "      <td>NaN</td>\n",
       "    </tr>\n",
       "    <tr>\n",
       "      <th>1</th>\n",
       "      <td>AUS</td>\n",
       "      <td>Australia</td>\n",
       "      <td>EE6</td>\n",
       "      <td>Total waste</td>\n",
       "      <td>GEN</td>\n",
       "      <td>Waste generated</td>\n",
       "      <td>KG_HAB</td>\n",
       "      <td>Kilograms per capita</td>\n",
       "      <td>2005</td>\n",
       "      <td>2005</td>\n",
       "      <td>8.425</td>\n",
       "      <td>NaN</td>\n",
       "      <td>NaN</td>\n",
       "    </tr>\n",
       "    <tr>\n",
       "      <th>2</th>\n",
       "      <td>AUS</td>\n",
       "      <td>Australia</td>\n",
       "      <td>EE6</td>\n",
       "      <td>Total waste</td>\n",
       "      <td>GEN</td>\n",
       "      <td>Waste generated</td>\n",
       "      <td>KG_HAB</td>\n",
       "      <td>Kilograms per capita</td>\n",
       "      <td>2010</td>\n",
       "      <td>2010</td>\n",
       "      <td>13.489</td>\n",
       "      <td>NaN</td>\n",
       "      <td>NaN</td>\n",
       "    </tr>\n",
       "    <tr>\n",
       "      <th>3</th>\n",
       "      <td>AUS</td>\n",
       "      <td>Australia</td>\n",
       "      <td>EE6</td>\n",
       "      <td>Total waste</td>\n",
       "      <td>GEN</td>\n",
       "      <td>Waste generated</td>\n",
       "      <td>KG_HAB</td>\n",
       "      <td>Kilograms per capita</td>\n",
       "      <td>2011</td>\n",
       "      <td>2011</td>\n",
       "      <td>14.629</td>\n",
       "      <td>NaN</td>\n",
       "      <td>NaN</td>\n",
       "    </tr>\n",
       "    <tr>\n",
       "      <th>4</th>\n",
       "      <td>AUS</td>\n",
       "      <td>Australia</td>\n",
       "      <td>EE6</td>\n",
       "      <td>Total waste</td>\n",
       "      <td>GEN</td>\n",
       "      <td>Waste generated</td>\n",
       "      <td>KG_HAB</td>\n",
       "      <td>Kilograms per capita</td>\n",
       "      <td>2012</td>\n",
       "      <td>2012</td>\n",
       "      <td>15.677</td>\n",
       "      <td>NaN</td>\n",
       "      <td>NaN</td>\n",
       "    </tr>\n",
       "    <tr>\n",
       "      <th>...</th>\n",
       "      <td>...</td>\n",
       "      <td>...</td>\n",
       "      <td>...</td>\n",
       "      <td>...</td>\n",
       "      <td>...</td>\n",
       "      <td>...</td>\n",
       "      <td>...</td>\n",
       "      <td>...</td>\n",
       "      <td>...</td>\n",
       "      <td>...</td>\n",
       "      <td>...</td>\n",
       "      <td>...</td>\n",
       "      <td>...</td>\n",
       "    </tr>\n",
       "    <tr>\n",
       "      <th>7893</th>\n",
       "      <td>EU27_2020</td>\n",
       "      <td>European Union – 27 countries (from 01/02/2020)</td>\n",
       "      <td>EE6</td>\n",
       "      <td>Total waste</td>\n",
       "      <td>COL</td>\n",
       "      <td>Waste collected</td>\n",
       "      <td>TH_T</td>\n",
       "      <td>Thousand tonnes</td>\n",
       "      <td>2015</td>\n",
       "      <td>2015</td>\n",
       "      <td>3225.103</td>\n",
       "      <td>NaN</td>\n",
       "      <td>NaN</td>\n",
       "    </tr>\n",
       "    <tr>\n",
       "      <th>7894</th>\n",
       "      <td>EU27_2020</td>\n",
       "      <td>European Union – 27 countries (from 01/02/2020)</td>\n",
       "      <td>EE6</td>\n",
       "      <td>Total waste</td>\n",
       "      <td>COL</td>\n",
       "      <td>Waste collected</td>\n",
       "      <td>TH_T</td>\n",
       "      <td>Thousand tonnes</td>\n",
       "      <td>2017</td>\n",
       "      <td>2017</td>\n",
       "      <td>3759.118</td>\n",
       "      <td>NaN</td>\n",
       "      <td>NaN</td>\n",
       "    </tr>\n",
       "    <tr>\n",
       "      <th>7895</th>\n",
       "      <td>EU27_2020</td>\n",
       "      <td>European Union – 27 countries (from 01/02/2020)</td>\n",
       "      <td>EE6</td>\n",
       "      <td>Total waste</td>\n",
       "      <td>COL</td>\n",
       "      <td>Waste collected</td>\n",
       "      <td>TH_T</td>\n",
       "      <td>Thousand tonnes</td>\n",
       "      <td>2018</td>\n",
       "      <td>2018</td>\n",
       "      <td>3993.687</td>\n",
       "      <td>NaN</td>\n",
       "      <td>NaN</td>\n",
       "    </tr>\n",
       "    <tr>\n",
       "      <th>7896</th>\n",
       "      <td>EU27_2020</td>\n",
       "      <td>European Union – 27 countries (from 01/02/2020)</td>\n",
       "      <td>EE6</td>\n",
       "      <td>Total waste</td>\n",
       "      <td>COL</td>\n",
       "      <td>Waste collected</td>\n",
       "      <td>TH_T</td>\n",
       "      <td>Thousand tonnes</td>\n",
       "      <td>2019</td>\n",
       "      <td>2019</td>\n",
       "      <td>4491.082</td>\n",
       "      <td>NaN</td>\n",
       "      <td>NaN</td>\n",
       "    </tr>\n",
       "    <tr>\n",
       "      <th>7897</th>\n",
       "      <td>EU27_2020</td>\n",
       "      <td>European Union – 27 countries (from 01/02/2020)</td>\n",
       "      <td>EE6</td>\n",
       "      <td>Total waste</td>\n",
       "      <td>COL</td>\n",
       "      <td>Waste collected</td>\n",
       "      <td>TH_T</td>\n",
       "      <td>Thousand tonnes</td>\n",
       "      <td>2020</td>\n",
       "      <td>2020</td>\n",
       "      <td>4689.092</td>\n",
       "      <td>NaN</td>\n",
       "      <td>NaN</td>\n",
       "    </tr>\n",
       "  </tbody>\n",
       "</table>\n",
       "<p>7898 rows × 13 columns</p>\n",
       "</div>"
      ],
      "text/plain": [
       "            COU                                          Country WASTE  \\\n",
       "0           AUS                                        Australia   EE6   \n",
       "1           AUS                                        Australia   EE6   \n",
       "2           AUS                                        Australia   EE6   \n",
       "3           AUS                                        Australia   EE6   \n",
       "4           AUS                                        Australia   EE6   \n",
       "...         ...                                              ...   ...   \n",
       "7893  EU27_2020  European Union – 27 countries (from 01/02/2020)   EE6   \n",
       "7894  EU27_2020  European Union – 27 countries (from 01/02/2020)   EE6   \n",
       "7895  EU27_2020  European Union – 27 countries (from 01/02/2020)   EE6   \n",
       "7896  EU27_2020  European Union – 27 countries (from 01/02/2020)   EE6   \n",
       "7897  EU27_2020  European Union – 27 countries (from 01/02/2020)   EE6   \n",
       "\n",
       "     Waste category WST_OPER Waste management operations    UNIT  \\\n",
       "0       Total waste      GEN             Waste generated  KG_HAB   \n",
       "1       Total waste      GEN             Waste generated  KG_HAB   \n",
       "2       Total waste      GEN             Waste generated  KG_HAB   \n",
       "3       Total waste      GEN             Waste generated  KG_HAB   \n",
       "4       Total waste      GEN             Waste generated  KG_HAB   \n",
       "...             ...      ...                         ...     ...   \n",
       "7893    Total waste      COL             Waste collected    TH_T   \n",
       "7894    Total waste      COL             Waste collected    TH_T   \n",
       "7895    Total waste      COL             Waste collected    TH_T   \n",
       "7896    Total waste      COL             Waste collected    TH_T   \n",
       "7897    Total waste      COL             Waste collected    TH_T   \n",
       "\n",
       "           Unit of measure   YEA  Year     Value  Flag Codes  Flags  \n",
       "0     Kilograms per capita  2000  2000     4.517         NaN    NaN  \n",
       "1     Kilograms per capita  2005  2005     8.425         NaN    NaN  \n",
       "2     Kilograms per capita  2010  2010    13.489         NaN    NaN  \n",
       "3     Kilograms per capita  2011  2011    14.629         NaN    NaN  \n",
       "4     Kilograms per capita  2012  2012    15.677         NaN    NaN  \n",
       "...                    ...   ...   ...       ...         ...    ...  \n",
       "7893       Thousand tonnes  2015  2015  3225.103         NaN    NaN  \n",
       "7894       Thousand tonnes  2017  2017  3759.118         NaN    NaN  \n",
       "7895       Thousand tonnes  2018  2018  3993.687         NaN    NaN  \n",
       "7896       Thousand tonnes  2019  2019  4491.082         NaN    NaN  \n",
       "7897       Thousand tonnes  2020  2020  4689.092         NaN    NaN  \n",
       "\n",
       "[7898 rows x 13 columns]"
      ]
     },
     "execution_count": 109,
     "metadata": {},
     "output_type": "execute_result"
    }
   ],
   "source": [
    "df"
   ]
  },
  {
   "cell_type": "code",
   "execution_count": 112,
   "id": "2c09f617",
   "metadata": {},
   "outputs": [
    {
     "data": {
      "text/plain": [
       "Index(['COU', 'Country', 'WASTE', 'Waste category', 'WST_OPER',\n",
       "       'Waste management operations', 'UNIT', 'Unit of measure', 'YEA', 'Year',\n",
       "       'Value', 'Flag Codes', 'Flags'],\n",
       "      dtype='object')"
      ]
     },
     "execution_count": 112,
     "metadata": {},
     "output_type": "execute_result"
    }
   ],
   "source": [
    "df.columns"
   ]
  },
  {
   "cell_type": "code",
   "execution_count": 113,
   "id": "654a7503",
   "metadata": {},
   "outputs": [
    {
     "data": {
      "text/plain": [
       "array(['AUS', 'AUT', 'BEL', 'CAN', 'CZE', 'DNK', 'FIN', 'FRA', 'DEU',\n",
       "       'GRC', 'HUN', 'ISL', 'IRL', 'ITA', 'JPN', 'KOR', 'LUX', 'MEX',\n",
       "       'NLD', 'NZL', 'NOR', 'POL', 'PRT', 'SVK', 'ESP', 'SWE', 'CHE',\n",
       "       'GBR', 'USA', 'BGR', 'CHL', 'COL', 'CRI', 'HRV', 'CYP', 'EST',\n",
       "       'ISR', 'LVA', 'LIE', 'LTU', 'MLT', 'ROU', 'RUS', 'SVN',\n",
       "       'EU27_2020'], dtype=object)"
      ]
     },
     "execution_count": 113,
     "metadata": {},
     "output_type": "execute_result"
    }
   ],
   "source": [
    "df['COU'].unique()"
   ]
  },
  {
   "cell_type": "code",
   "execution_count": 116,
   "id": "c3a69ea7",
   "metadata": {},
   "outputs": [
    {
     "data": {
      "text/plain": [
       "array([nan])"
      ]
     },
     "execution_count": 116,
     "metadata": {},
     "output_type": "execute_result"
    }
   ],
   "source": [
    "df['Flags'].unique()"
   ]
  },
  {
   "cell_type": "code",
   "execution_count": 120,
   "id": "04ffd375",
   "metadata": {},
   "outputs": [],
   "source": [
    "df1=df.drop(columns=['Flag Codes','Flags'])"
   ]
  },
  {
   "cell_type": "code",
   "execution_count": 121,
   "id": "6cdb02a3",
   "metadata": {},
   "outputs": [
    {
     "data": {
      "text/html": [
       "<div>\n",
       "<style scoped>\n",
       "    .dataframe tbody tr th:only-of-type {\n",
       "        vertical-align: middle;\n",
       "    }\n",
       "\n",
       "    .dataframe tbody tr th {\n",
       "        vertical-align: top;\n",
       "    }\n",
       "\n",
       "    .dataframe thead th {\n",
       "        text-align: right;\n",
       "    }\n",
       "</style>\n",
       "<table border=\"1\" class=\"dataframe\">\n",
       "  <thead>\n",
       "    <tr style=\"text-align: right;\">\n",
       "      <th></th>\n",
       "      <th>COU</th>\n",
       "      <th>Country</th>\n",
       "      <th>WASTE</th>\n",
       "      <th>Waste category</th>\n",
       "      <th>WST_OPER</th>\n",
       "      <th>Waste management operations</th>\n",
       "      <th>UNIT</th>\n",
       "      <th>Unit of measure</th>\n",
       "      <th>YEA</th>\n",
       "      <th>Year</th>\n",
       "      <th>Value</th>\n",
       "    </tr>\n",
       "  </thead>\n",
       "  <tbody>\n",
       "    <tr>\n",
       "      <th>0</th>\n",
       "      <td>AUS</td>\n",
       "      <td>Australia</td>\n",
       "      <td>EE6</td>\n",
       "      <td>Total waste</td>\n",
       "      <td>GEN</td>\n",
       "      <td>Waste generated</td>\n",
       "      <td>KG_HAB</td>\n",
       "      <td>Kilograms per capita</td>\n",
       "      <td>2000</td>\n",
       "      <td>2000</td>\n",
       "      <td>4.517</td>\n",
       "    </tr>\n",
       "    <tr>\n",
       "      <th>1</th>\n",
       "      <td>AUS</td>\n",
       "      <td>Australia</td>\n",
       "      <td>EE6</td>\n",
       "      <td>Total waste</td>\n",
       "      <td>GEN</td>\n",
       "      <td>Waste generated</td>\n",
       "      <td>KG_HAB</td>\n",
       "      <td>Kilograms per capita</td>\n",
       "      <td>2005</td>\n",
       "      <td>2005</td>\n",
       "      <td>8.425</td>\n",
       "    </tr>\n",
       "    <tr>\n",
       "      <th>2</th>\n",
       "      <td>AUS</td>\n",
       "      <td>Australia</td>\n",
       "      <td>EE6</td>\n",
       "      <td>Total waste</td>\n",
       "      <td>GEN</td>\n",
       "      <td>Waste generated</td>\n",
       "      <td>KG_HAB</td>\n",
       "      <td>Kilograms per capita</td>\n",
       "      <td>2010</td>\n",
       "      <td>2010</td>\n",
       "      <td>13.489</td>\n",
       "    </tr>\n",
       "    <tr>\n",
       "      <th>3</th>\n",
       "      <td>AUS</td>\n",
       "      <td>Australia</td>\n",
       "      <td>EE6</td>\n",
       "      <td>Total waste</td>\n",
       "      <td>GEN</td>\n",
       "      <td>Waste generated</td>\n",
       "      <td>KG_HAB</td>\n",
       "      <td>Kilograms per capita</td>\n",
       "      <td>2011</td>\n",
       "      <td>2011</td>\n",
       "      <td>14.629</td>\n",
       "    </tr>\n",
       "    <tr>\n",
       "      <th>4</th>\n",
       "      <td>AUS</td>\n",
       "      <td>Australia</td>\n",
       "      <td>EE6</td>\n",
       "      <td>Total waste</td>\n",
       "      <td>GEN</td>\n",
       "      <td>Waste generated</td>\n",
       "      <td>KG_HAB</td>\n",
       "      <td>Kilograms per capita</td>\n",
       "      <td>2012</td>\n",
       "      <td>2012</td>\n",
       "      <td>15.677</td>\n",
       "    </tr>\n",
       "  </tbody>\n",
       "</table>\n",
       "</div>"
      ],
      "text/plain": [
       "   COU    Country WASTE Waste category WST_OPER Waste management operations  \\\n",
       "0  AUS  Australia   EE6    Total waste      GEN             Waste generated   \n",
       "1  AUS  Australia   EE6    Total waste      GEN             Waste generated   \n",
       "2  AUS  Australia   EE6    Total waste      GEN             Waste generated   \n",
       "3  AUS  Australia   EE6    Total waste      GEN             Waste generated   \n",
       "4  AUS  Australia   EE6    Total waste      GEN             Waste generated   \n",
       "\n",
       "     UNIT       Unit of measure   YEA  Year   Value  \n",
       "0  KG_HAB  Kilograms per capita  2000  2000   4.517  \n",
       "1  KG_HAB  Kilograms per capita  2005  2005   8.425  \n",
       "2  KG_HAB  Kilograms per capita  2010  2010  13.489  \n",
       "3  KG_HAB  Kilograms per capita  2011  2011  14.629  \n",
       "4  KG_HAB  Kilograms per capita  2012  2012  15.677  "
      ]
     },
     "execution_count": 121,
     "metadata": {},
     "output_type": "execute_result"
    }
   ],
   "source": [
    "df1.head()"
   ]
  },
  {
   "cell_type": "code",
   "execution_count": 122,
   "id": "b34a9fe2",
   "metadata": {},
   "outputs": [
    {
     "name": "stdout",
     "output_type": "stream",
     "text": [
      "<class 'pandas.core.frame.DataFrame'>\n",
      "RangeIndex: 7898 entries, 0 to 7897\n",
      "Data columns (total 11 columns):\n",
      " #   Column                       Non-Null Count  Dtype  \n",
      "---  ------                       --------------  -----  \n",
      " 0   COU                          7898 non-null   object \n",
      " 1   Country                      7898 non-null   object \n",
      " 2   WASTE                        7898 non-null   object \n",
      " 3   Waste category               7898 non-null   object \n",
      " 4   WST_OPER                     7898 non-null   object \n",
      " 5   Waste management operations  7898 non-null   object \n",
      " 6   UNIT                         7898 non-null   object \n",
      " 7   Unit of measure              7898 non-null   object \n",
      " 8   YEA                          7898 non-null   int64  \n",
      " 9   Year                         7898 non-null   int64  \n",
      " 10  Value                        7898 non-null   float64\n",
      "dtypes: float64(1), int64(2), object(8)\n",
      "memory usage: 678.9+ KB\n"
     ]
    }
   ],
   "source": [
    "df1.info()"
   ]
  },
  {
   "cell_type": "code",
   "execution_count": 123,
   "id": "d4c0718a",
   "metadata": {},
   "outputs": [
    {
     "data": {
      "text/plain": [
       "COU                            0\n",
       "Country                        0\n",
       "WASTE                          0\n",
       "Waste category                 0\n",
       "WST_OPER                       0\n",
       "Waste management operations    0\n",
       "UNIT                           0\n",
       "Unit of measure                0\n",
       "YEA                            0\n",
       "Year                           0\n",
       "Value                          0\n",
       "dtype: int64"
      ]
     },
     "execution_count": 123,
     "metadata": {},
     "output_type": "execute_result"
    }
   ],
   "source": [
    "df1.isnull().sum()"
   ]
  },
  {
   "cell_type": "code",
   "execution_count": 124,
   "id": "1d6be1b2",
   "metadata": {},
   "outputs": [
    {
     "data": {
      "text/plain": [
       "Index(['COU', 'Country', 'WASTE', 'Waste category', 'WST_OPER',\n",
       "       'Waste management operations', 'UNIT', 'Unit of measure', 'YEA', 'Year',\n",
       "       'Value'],\n",
       "      dtype='object')"
      ]
     },
     "execution_count": 124,
     "metadata": {},
     "output_type": "execute_result"
    }
   ],
   "source": [
    "df1.columns"
   ]
  },
  {
   "cell_type": "code",
   "execution_count": 126,
   "id": "6ea1c4f0",
   "metadata": {},
   "outputs": [
    {
     "data": {
      "text/plain": [
       "array(['EE6', 'EE_TEE', 'EE_SME', 'EE_LMP', 'EE_LE', 'EE_SE', 'EE_SITTE'],\n",
       "      dtype=object)"
      ]
     },
     "execution_count": 126,
     "metadata": {},
     "output_type": "execute_result"
    }
   ],
   "source": [
    "df1['WASTE'].unique()"
   ]
  },
  {
   "cell_type": "code",
   "execution_count": 127,
   "id": "847a61b9",
   "metadata": {},
   "outputs": [
    {
     "data": {
      "text/plain": [
       "array(['Total waste', 'Temperature exchange equipment',\n",
       "       'Screens and monitors', 'Lamps', 'Large equipment',\n",
       "       'Small equipment', 'Small IT and telecommunication equipment'],\n",
       "      dtype=object)"
      ]
     },
     "execution_count": 127,
     "metadata": {},
     "output_type": "execute_result"
    }
   ],
   "source": [
    "df1['Waste category'].unique()"
   ]
  },
  {
   "cell_type": "code",
   "execution_count": 128,
   "id": "26372463",
   "metadata": {},
   "outputs": [
    {
     "data": {
      "text/plain": [
       "array(['GEN', 'MKT', 'COL', 'RCY'], dtype=object)"
      ]
     },
     "execution_count": 128,
     "metadata": {},
     "output_type": "execute_result"
    }
   ],
   "source": [
    "df1['WST_OPER'].unique()"
   ]
  },
  {
   "cell_type": "code",
   "execution_count": 129,
   "id": "cd0dc26f",
   "metadata": {},
   "outputs": [
    {
     "data": {
      "text/plain": [
       "array(['Waste generated', 'Products put on the market', 'Waste collected',\n",
       "       'Recycling'], dtype=object)"
      ]
     },
     "execution_count": 129,
     "metadata": {},
     "output_type": "execute_result"
    }
   ],
   "source": [
    "df1['Waste management operations'].unique()"
   ]
  },
  {
   "cell_type": "code",
   "execution_count": 130,
   "id": "dee12cdd",
   "metadata": {},
   "outputs": [
    {
     "data": {
      "text/plain": [
       "Colombia                                           424\n",
       "Japan                                              396\n",
       "Australia                                          390\n",
       "Costa Rica                                         378\n",
       "Switzerland                                        366\n",
       "Israel                                             280\n",
       "Mexico                                             240\n",
       "Korea                                              220\n",
       "Hungary                                            192\n",
       "Canada                                             180\n",
       "Portugal                                           170\n",
       "United States                                      168\n",
       "United Kingdom                                     168\n",
       "Russia                                             168\n",
       "New Zealand                                        168\n",
       "Chile                                              168\n",
       "Luxembourg                                         166\n",
       "Lithuania                                          164\n",
       "Cyprus                                             160\n",
       "Poland                                             160\n",
       "Bulgaria                                           152\n",
       "Greece                                             140\n",
       "Malta                                              140\n",
       "Norway                                             140\n",
       "Austria                                            140\n",
       "Slovak Republic                                    140\n",
       "Finland                                            140\n",
       "Iceland                                            138\n",
       "Netherlands                                        138\n",
       "France                                             136\n",
       "Denmark                                            136\n",
       "Germany                                            136\n",
       "Estonia                                            136\n",
       "Sweden                                             136\n",
       "Slovenia                                           134\n",
       "Belgium                                            132\n",
       "Italy                                              132\n",
       "Latvia                                             132\n",
       "Ireland                                            130\n",
       "Czechia                                            130\n",
       "Spain                                              128\n",
       "Croatia                                            126\n",
       "Liechtenstein                                       92\n",
       "Romania                                             48\n",
       "European Union – 27 countries (from 01/02/2020)     40\n",
       "Name: Country, dtype: int64"
      ]
     },
     "execution_count": 130,
     "metadata": {},
     "output_type": "execute_result"
    }
   ],
   "source": [
    "# from which country waste are genrated more\n",
    "df1.Country.value_counts()"
   ]
  },
  {
   "cell_type": "code",
   "execution_count": 151,
   "id": "c27eb513",
   "metadata": {},
   "outputs": [
    {
     "data": {
      "image/png": "[encoded data removed]",
      "text/plain": [
       "<Figure size 1500x1000 with 1 Axes>"
      ]
     },
     "metadata": {},
     "output_type": "display_data"
    }
   ],
   "source": [
    "plt.figure(figsize=(15, 10))  # Adjust the width and height as needed\n",
    "\n",
    "# Create countplot with adjusted label size and rotation\n",
    "sns.countplot(x='Country', data=df1)\n",
    "plt.xticks(rotation=90, fontsize=12)  # Rotate labels by 90 degrees and adjust the font size\n",
    "\n",
    "# Show plot\n",
    "plt.show()"
   ]
  },
  {
   "cell_type": "markdown",
   "id": "2ecec61c",
   "metadata": {},
   "source": [
    "# countries producing larger ewaste\n",
    "- Colombia\n",
    "- Japan\n",
    "- Austrelia\n",
    "- Costa Rica\n",
    "- Switzerland\n",
    "- Israel"
   ]
  },
  {
   "cell_type": "code",
   "execution_count": 135,
   "id": "06f4d4f1",
   "metadata": {},
   "outputs": [],
   "source": [
    "values=df1['Waste category'].value_counts().values\n",
    "index=df1['Waste category'].value_counts().index"
   ]
  },
  {
   "cell_type": "code",
   "execution_count": 138,
   "id": "33034341",
   "metadata": {},
   "outputs": [
    {
     "data": {
      "image/png": "[encoded data removed]",
      "text/plain": [
       "<Figure size 1500x600 with 1 Axes>"
      ]
     },
     "metadata": {},
     "output_type": "display_data"
    }
   ],
   "source": [
    "plt.pie(values,labels=index, autopct='%1.1f%%')\n",
    "plt.show()"
   ]
  },
  {
   "cell_type": "markdown",
   "id": "d813914e",
   "metadata": {},
   "source": [
    "## Observation:\n",
    "- highest catagory of e-waste produce in the world is 'total waste'"
   ]
  },
  {
   "cell_type": "code",
   "execution_count": 157,
   "id": "ba1f3519",
   "metadata": {},
   "outputs": [
    {
     "data": {
      "text/plain": [
       "array(['Total waste', 'Temperature exchange equipment',\n",
       "       'Screens and monitors', 'Lamps', 'Large equipment',\n",
       "       'Small equipment', 'Small IT and telecommunication equipment'],\n",
       "      dtype=object)"
      ]
     },
     "execution_count": 157,
     "metadata": {},
     "output_type": "execute_result"
    }
   ],
   "source": [
    "df1['Waste category'].unique()"
   ]
  },
  {
   "cell_type": "code",
   "execution_count": 180,
   "id": "6c7305bd",
   "metadata": {},
   "outputs": [
    {
     "name": "stdout",
     "output_type": "stream",
     "text": [
      "The country with the maximum count of 'Total waste' is Korea with a count of 76.\n"
     ]
    }
   ],
   "source": [
    "#filtering\n",
    "filtered_rows = df1[df1['Waste category'] == 'Total waste']\n",
    "count_per_country = filtered_rows.groupby(['Country']).size()\n",
    "country_with_max_count = count_per_country.idxmax()\n",
    "max_count = count_per_country.max()\n",
    "print(f\"The country with the maximum count of 'Total waste' is {country_with_max_count} with a count of {max_count}.\")\n"
   ]
  },
  {
   "cell_type": "code",
   "execution_count": 182,
   "id": "c43776da",
   "metadata": {},
   "outputs": [
    {
     "name": "stdout",
     "output_type": "stream",
     "text": [
      "The country with the maximum count of 'Temperature exchange equipment' is Japan with a count of 72.\n"
     ]
    }
   ],
   "source": [
    "filtered_rows = df1[df1['Waste category'] == 'Temperature exchange equipment']\n",
    "count_per_country = filtered_rows.groupby(['Country']).size()\n",
    "country_with_max_count = count_per_country.idxmax()\n",
    "max_count = count_per_country.max()\n",
    "print(f\"The country with the maximum count of 'Temperature exchange equipment' is {country_with_max_count} with a count of {max_count}.\")\n"
   ]
  },
  {
   "cell_type": "code",
   "execution_count": 183,
   "id": "c3e90680",
   "metadata": {},
   "outputs": [
    {
     "name": "stdout",
     "output_type": "stream",
     "text": [
      "The country with the maximum count of 'Screens and monitors' is Colombia with a count of 72.\n"
     ]
    }
   ],
   "source": [
    "filtered_rows = df1[df1['Waste category'] == 'Screens and monitors']\n",
    "count_per_country = filtered_rows.groupby(['Country']).size()\n",
    "country_with_max_count = count_per_country.idxmax()\n",
    "max_count = count_per_country.max()\n",
    "print(f\"The country with the maximum count of 'Screens and monitors' is {country_with_max_count} with a count of {max_count}.\")\n"
   ]
  },
  {
   "cell_type": "code",
   "execution_count": 184,
   "id": "a47111ab",
   "metadata": {},
   "outputs": [
    {
     "name": "stdout",
     "output_type": "stream",
     "text": [
      "The country with the maximum count of 'Lamps' is Colombia with a count of 72.\n"
     ]
    }
   ],
   "source": [
    "filtered_rows = df1[df1['Waste category'] == 'Lamps']\n",
    "count_per_country = filtered_rows.groupby(['Country']).size()\n",
    "country_with_max_count = count_per_country.idxmax()\n",
    "max_count = count_per_country.max()\n",
    "print(f\"The country with the maximum count of 'Lamps' is {country_with_max_count} with a count of {max_count}.\")\n"
   ]
  },
  {
   "cell_type": "code",
   "execution_count": 185,
   "id": "52ebebc3",
   "metadata": {},
   "outputs": [
    {
     "name": "stdout",
     "output_type": "stream",
     "text": [
      "The country with the maximum count of 'Large equipment' is Japan with a count of 72.\n"
     ]
    }
   ],
   "source": [
    "filtered_rows = df1[df1['Waste category'] == 'Large equipment']\n",
    "count_per_country = filtered_rows.groupby(['Country']).size()\n",
    "country_with_max_count = count_per_country.idxmax()\n",
    "max_count = count_per_country.max()\n",
    "print(f\"The country with the maximum count of 'Large equipment' is {country_with_max_count} with a count of {max_count}.\")\n"
   ]
  },
  {
   "cell_type": "code",
   "execution_count": 186,
   "id": "ae6ad6d0",
   "metadata": {},
   "outputs": [
    {
     "name": "stdout",
     "output_type": "stream",
     "text": [
      "The country with the maximum count of 'Small equipment' is Australia with a count of 56.\n"
     ]
    }
   ],
   "source": [
    "filtered_rows = df1[df1['Waste category'] == 'Small equipment']\n",
    "count_per_country = filtered_rows.groupby(['Country']).size()\n",
    "country_with_max_count = count_per_country.idxmax()\n",
    "max_count = count_per_country.max()\n",
    "print(f\"The country with the maximum count of 'Small equipment' is {country_with_max_count} with a count of {max_count}.\")\n"
   ]
  },
  {
   "cell_type": "code",
   "execution_count": 187,
   "id": "9eea7f48",
   "metadata": {},
   "outputs": [
    {
     "name": "stdout",
     "output_type": "stream",
     "text": [
      "The country with the maximum count of 'Small IT and telecommunication equipment' is Japan with a count of 60.\n"
     ]
    }
   ],
   "source": [
    "filtered_rows = df1[df1['Waste category'] == 'Small IT and telecommunication equipment']\n",
    "count_per_country = filtered_rows.groupby(['Country']).size()\n",
    "country_with_max_count = count_per_country.idxmax()\n",
    "max_count = count_per_country.max()\n",
    "print(f\"The country with the maximum count of 'Small IT and telecommunication equipment' is {country_with_max_count} with a count of {max_count}.\")\n"
   ]
  },
  {
   "cell_type": "markdown",
   "id": "ac59c9b8",
   "metadata": {},
   "source": [
    "## observation:\n",
    "- countries producing maximum Total waste is Korea with a count of 76.\n",
    "- countries producing maximum 'Small IT and telecommunication equipment'-->count=60 ,'Large equipment'--->72 ,'Temperature exchange equipment'---->72 Japan\n",
    "- country producing maximum e-waste 'small equipment' Australia with count---->56\n",
    "- country producing maximum e-waste 'Lamps'-count-->72 , 'Screens and monitors'-count--->72  Colombia"
   ]
  },
  {
   "cell_type": "code",
   "execution_count": null,
   "id": "5e7fc28e",
   "metadata": {},
   "outputs": [],
   "source": []
  }
 ],
 "metadata": {
  "kernelspec": {
   "display_name": "Python 3 (ipykernel)",
   "language": "python",
   "name": "python3"
  },
  "language_info": {
   "codemirror_mode": {
    "name": "ipython",
    "version": 3
   },
   "file_extension": ".py",
   "mimetype": "text/x-python",
   "name": "python",
   "nbconvert_exporter": "python",
   "pygments_lexer": "ipython3",
   "version": "3.9.13"
  }
 },
 "nbformat": 4,
 "nbformat_minor": 5
}
